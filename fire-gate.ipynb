{
 "cells": [
  {
   "cell_type": "code",
   "execution_count": 21,
   "outputs": [],
   "source": [
    "# matplotlib Setting\n",
    "import matplotlib.pyplot as plt\n",
    "plt.rcParams[\"font.family\"] = 'Malgun Gothic'\n",
    "plt.rcParams[\"axes.grid\"] = True\n",
    "plt.rcParams[\"figure.figsize\"] = (14,8)\n",
    "plt.rcParams[\"axes.formatter.useoffset\"] = False\n",
    "plt.rcParams['axes.unicode_minus'] = False\n",
    "plt.rcParams[\"axes.formatter.limits\"] = -10000, 10000"
   ],
   "metadata": {
    "collapsed": false
   }
  },
  {
   "cell_type": "code",
   "execution_count": 32,
   "outputs": [],
   "source": [
    "import numpy as np\n",
    "import pandas as pd\n",
    "import yfinance as yf\n",
    "import quantstats as qs\n",
    "import FinanceDataReader as fdr\n",
    "import requests\n",
    "import time\n",
    "import datetime"
   ],
   "metadata": {
    "collapsed": false
   }
  },
  {
   "cell_type": "code",
   "execution_count": 33,
   "outputs": [],
   "source": [
    "start_time_str = '2016-06-01'\n",
    "end_time_str = '2021-06-01'\n",
    "ticker = \"TQQQ\""
   ],
   "metadata": {
    "collapsed": false
   }
  },
  {
   "cell_type": "code",
   "execution_count": 34,
   "outputs": [],
   "source": [
    "initMoney = 10000\n",
    "splitCount = 40"
   ],
   "metadata": {
    "collapsed": false
   }
  },
  {
   "cell_type": "code",
   "execution_count": 36,
   "outputs": [
    {
     "ename": "IndexError",
     "evalue": "list index out of range",
     "output_type": "error",
     "traceback": [
      "\u001B[1;31m---------------------------------------------------------------------------\u001B[0m",
      "\u001B[1;31mIndexError\u001B[0m                                Traceback (most recent call last)",
      "Input \u001B[1;32mIn [36]\u001B[0m, in \u001B[0;36m<cell line: 42>\u001B[1;34m()\u001B[0m\n\u001B[0;32m     44\u001B[0m ccc \u001B[38;5;241m+\u001B[39m\u001B[38;5;241m=\u001B[39m \u001B[38;5;241m1\u001B[39m\n\u001B[0;32m     45\u001B[0m \u001B[38;5;66;03m#if ccc > 100 : break\u001B[39;00m\n\u001B[1;32m---> 46\u001B[0m \u001B[38;5;28;01mif\u001B[39;00m row[HIGH] \u001B[38;5;241m==\u001B[39m \u001B[38;5;124m'\u001B[39m\u001B[38;5;124mHigh\u001B[39m\u001B[38;5;124m'\u001B[39m : \u001B[38;5;28;01mcontinue\u001B[39;00m\n\u001B[0;32m     48\u001B[0m \u001B[38;5;28;01mif\u001B[39;00m initMoney \u001B[38;5;241m-\u001B[39m oneMoney \u001B[38;5;241m<\u001B[39m \u001B[38;5;241m0\u001B[39m :\n\u001B[0;32m     49\u001B[0m     initMoney \u001B[38;5;241m+\u001B[39m\u001B[38;5;241m=\u001B[39m (stockCount \u001B[38;5;241m*\u001B[39m \u001B[38;5;28mfloat\u001B[39m(row[CLOSE]) )\n",
      "\u001B[1;31mIndexError\u001B[0m: list index out of range"
     ]
    }
   ],
   "source": [
    "oneMoney = initMoney / splitCount\n",
    "\n",
    "period1 = str(int(time.mktime(datetime.datetime.strptime(start_time_str, '%Y-%m-%d').timetuple())))\n",
    "period2 = str(int(time.mktime(datetime.datetime.strptime(end_time_str,   '%Y-%m-%d').timetuple())))\n",
    "\n",
    "HISTORY_DATA_URL = 'https://query1.finance.yahoo.com/v7/finance/download/'+ticker + '?period1='+period1+'&period2='+period2+'&interval=1d&events=history&includeAdjustedClose=true'\n",
    "response = requests.get(HISTORY_DATA_URL)\n",
    "\n",
    "stock_reader = response.text.split(\"\\n\")\n",
    "\n",
    "DATE = 0\n",
    "OPEN = 1\n",
    "HIGH = 2\n",
    "LOW = 3\n",
    "CLOSE = 4\n",
    "ADJCLOSE = 5\n",
    "VOLUME = 6\n",
    "\n",
    "stockCount = 0\n",
    "stockMeanValue = 0\n",
    "buyCount = 0\n",
    "\n",
    "\n",
    "def buy_close(close_value, money) :\n",
    "    global stockCount, stockMeanValue, buyCount, initMoney\n",
    "\n",
    "    #print(money)\n",
    "    c = int(money / close_value)\n",
    "    stockMeanValue = ( ( stockCount * stockMeanValue ) + (c * close_value ) ) / (stockCount + c)\n",
    "    stockCount += c\n",
    "\n",
    "    initMoney -= (close_value * c)\n",
    "\n",
    "    #print(\"[BUY ] initMoney(%d) Count(%d) Mean(%f) BUY(%f)\" % (initMoney, stockCount, stockMeanValue, close_value))\n",
    "\n",
    "    return\n",
    "\n",
    "SELL_RATE = 1.10\n",
    "\n",
    "isFirst = True\n",
    "ccc = 0\n",
    "for row in stock_reader :\n",
    "    row = row.split(\",\")\n",
    "    ccc += 1\n",
    "    #if ccc > 100 : break\n",
    "    if row[HIGH] == 'High' : continue\n",
    "\n",
    "    if initMoney - oneMoney < 0 :\n",
    "        initMoney += (stockCount * float(row[CLOSE]) )\n",
    "        oneMoney = initMoney / splitCount\n",
    "        print(\"%s [매도청산] initMoney(%d) Count(%d) Mean(%f) SELL(%f)\" % (row[DATE], initMoney, stockCount, stockMeanValue, float(row[CLOSE])))\n",
    "        stockCount = 0\n",
    "        stockMeanValue = 0\n",
    "    elif stockMeanValue * SELL_RATE < float(row[HIGH]) :\n",
    "        initMoney += (stockCount * stockMeanValue * SELL_RATE )\n",
    "        oneMoney = initMoney / splitCount\n",
    "        print(\"%s [수익청산] initMoney(%d) Count(%d) Mean(%f) SELL(%f)\" % (row[DATE], initMoney, stockCount, stockMeanValue, stockMeanValue * SELL_RATE))\n",
    "        stockCount = 0\n",
    "        stockMeanValue = 0\n",
    "\n",
    "    if stockMeanValue < float(row[CLOSE]) :\n",
    "        buy_close(float(row[CLOSE]), oneMoney / 2)\n",
    "\n",
    "    buy_close(float(row[CLOSE]), oneMoney / 2)"
   ],
   "metadata": {
    "collapsed": false
   }
  },
  {
   "cell_type": "code",
   "execution_count": 38,
   "outputs": [
    {
     "name": "stdout",
     "output_type": "stream",
     "text": [
      "[*********************100%***********************]  1 of 1 completed\n"
     ]
    }
   ],
   "source": [
    "df = yf.download('TQQQ','2015-01-01','2020-01-01')"
   ],
   "metadata": {
    "collapsed": false
   }
  },
  {
   "cell_type": "code",
   "execution_count": 39,
   "outputs": [
    {
     "data": {
      "text/plain": "                 Open       High        Low      Close  Adj Close    Volume\nDate                                                                       \n2014-12-31   4.208750   4.260417   4.042083   4.060417   4.051631  58545600\n2015-01-02   4.118750   4.172083   3.965000   4.027083   4.018369  61113600\n2015-01-05   3.968750   3.983333   3.812500   3.845833   3.837511  63508800\n2015-01-06   3.859583   3.882083   3.640417   3.693333   3.685341  84321600\n2015-01-07   3.763750   3.860000   3.738333   3.835417   3.827118  68733600\n...               ...        ...        ...        ...        ...       ...\n2019-12-24  21.487499  21.517500  21.312500  21.459999  21.459999  19949200\n2019-12-26  21.557501  22.027500  21.557501  22.017500  22.017500  32129200\n2019-12-27  22.252501  22.264999  21.787500  21.952499  21.952499  49875200\n2019-12-30  21.932501  21.965000  21.200001  21.514999  21.514999  56452800\n2019-12-31  21.325001  21.690001  21.215000  21.637501  21.637501  42190000\n\n[1259 rows x 6 columns]",
      "text/html": "<div>\n<style scoped>\n    .dataframe tbody tr th:only-of-type {\n        vertical-align: middle;\n    }\n\n    .dataframe tbody tr th {\n        vertical-align: top;\n    }\n\n    .dataframe thead th {\n        text-align: right;\n    }\n</style>\n<table border=\"1\" class=\"dataframe\">\n  <thead>\n    <tr style=\"text-align: right;\">\n      <th></th>\n      <th>Open</th>\n      <th>High</th>\n      <th>Low</th>\n      <th>Close</th>\n      <th>Adj Close</th>\n      <th>Volume</th>\n    </tr>\n    <tr>\n      <th>Date</th>\n      <th></th>\n      <th></th>\n      <th></th>\n      <th></th>\n      <th></th>\n      <th></th>\n    </tr>\n  </thead>\n  <tbody>\n    <tr>\n      <th>2014-12-31</th>\n      <td>4.208750</td>\n      <td>4.260417</td>\n      <td>4.042083</td>\n      <td>4.060417</td>\n      <td>4.051631</td>\n      <td>58545600</td>\n    </tr>\n    <tr>\n      <th>2015-01-02</th>\n      <td>4.118750</td>\n      <td>4.172083</td>\n      <td>3.965000</td>\n      <td>4.027083</td>\n      <td>4.018369</td>\n      <td>61113600</td>\n    </tr>\n    <tr>\n      <th>2015-01-05</th>\n      <td>3.968750</td>\n      <td>3.983333</td>\n      <td>3.812500</td>\n      <td>3.845833</td>\n      <td>3.837511</td>\n      <td>63508800</td>\n    </tr>\n    <tr>\n      <th>2015-01-06</th>\n      <td>3.859583</td>\n      <td>3.882083</td>\n      <td>3.640417</td>\n      <td>3.693333</td>\n      <td>3.685341</td>\n      <td>84321600</td>\n    </tr>\n    <tr>\n      <th>2015-01-07</th>\n      <td>3.763750</td>\n      <td>3.860000</td>\n      <td>3.738333</td>\n      <td>3.835417</td>\n      <td>3.827118</td>\n      <td>68733600</td>\n    </tr>\n    <tr>\n      <th>...</th>\n      <td>...</td>\n      <td>...</td>\n      <td>...</td>\n      <td>...</td>\n      <td>...</td>\n      <td>...</td>\n    </tr>\n    <tr>\n      <th>2019-12-24</th>\n      <td>21.487499</td>\n      <td>21.517500</td>\n      <td>21.312500</td>\n      <td>21.459999</td>\n      <td>21.459999</td>\n      <td>19949200</td>\n    </tr>\n    <tr>\n      <th>2019-12-26</th>\n      <td>21.557501</td>\n      <td>22.027500</td>\n      <td>21.557501</td>\n      <td>22.017500</td>\n      <td>22.017500</td>\n      <td>32129200</td>\n    </tr>\n    <tr>\n      <th>2019-12-27</th>\n      <td>22.252501</td>\n      <td>22.264999</td>\n      <td>21.787500</td>\n      <td>21.952499</td>\n      <td>21.952499</td>\n      <td>49875200</td>\n    </tr>\n    <tr>\n      <th>2019-12-30</th>\n      <td>21.932501</td>\n      <td>21.965000</td>\n      <td>21.200001</td>\n      <td>21.514999</td>\n      <td>21.514999</td>\n      <td>56452800</td>\n    </tr>\n    <tr>\n      <th>2019-12-31</th>\n      <td>21.325001</td>\n      <td>21.690001</td>\n      <td>21.215000</td>\n      <td>21.637501</td>\n      <td>21.637501</td>\n      <td>42190000</td>\n    </tr>\n  </tbody>\n</table>\n<p>1259 rows × 6 columns</p>\n</div>"
     },
     "execution_count": 39,
     "metadata": {},
     "output_type": "execute_result"
    }
   ],
   "source": [
    "df"
   ],
   "metadata": {
    "collapsed": false
   }
  },
  {
   "cell_type": "code",
   "execution_count": 25,
   "outputs": [],
   "source": [
    "rate_of_return = 0 # 수익률\n",
    "realized_pl = 0 # 실현손익\n",
    "investment = 100000 # 고정 투자금\n",
    "investment_price = 0 # 매입 금액\n",
    "investment_total = 0 # 매입 총액\n",
    "\n",
    "amount = 0 # 평가금액"
   ],
   "metadata": {
    "collapsed": false
   }
  },
  {
   "cell_type": "code",
   "execution_count": 40,
   "outputs": [
    {
     "data": {
      "text/plain": "                 Open       High        Low      Close  Adj Close    Volume  \\\nDate                                                                          \n2014-12-31   4.208750   4.260417   4.042083   4.060417   4.051631  58545600   \n2015-01-02   4.118750   4.172083   3.965000   4.027083   4.018369  61113600   \n2015-01-05   3.968750   3.983333   3.812500   3.845833   3.837511  63508800   \n2015-01-06   3.859583   3.882083   3.640417   3.693333   3.685341  84321600   \n2015-01-07   3.763750   3.860000   3.738333   3.835417   3.827118  68733600   \n...               ...        ...        ...        ...        ...       ...   \n2019-12-24  21.487499  21.517500  21.312500  21.459999  21.459999  19949200   \n2019-12-26  21.557501  22.027500  21.557501  22.017500  22.017500  32129200   \n2019-12-27  22.252501  22.264999  21.787500  21.952499  21.952499  49875200   \n2019-12-30  21.932501  21.965000  21.200001  21.514999  21.514999  56452800   \n2019-12-31  21.325001  21.690001  21.215000  21.637501  21.637501  42190000   \n\n            simple_return  log_return  \nDate                                   \n2014-12-31            NaN         NaN  \n2015-01-02      -0.008210   -0.008244  \n2015-01-05      -0.045008   -0.046052  \n2015-01-06      -0.039653   -0.040461  \n2015-01-07       0.038470    0.037749  \n...                   ...         ...  \n2019-12-24       0.001295    0.001294  \n2019-12-26       0.025979    0.025647  \n2019-12-27      -0.002952   -0.002957  \n2019-12-30      -0.019929   -0.020131  \n2019-12-31       0.005694    0.005678  \n\n[1259 rows x 8 columns]",
      "text/html": "<div>\n<style scoped>\n    .dataframe tbody tr th:only-of-type {\n        vertical-align: middle;\n    }\n\n    .dataframe tbody tr th {\n        vertical-align: top;\n    }\n\n    .dataframe thead th {\n        text-align: right;\n    }\n</style>\n<table border=\"1\" class=\"dataframe\">\n  <thead>\n    <tr style=\"text-align: right;\">\n      <th></th>\n      <th>Open</th>\n      <th>High</th>\n      <th>Low</th>\n      <th>Close</th>\n      <th>Adj Close</th>\n      <th>Volume</th>\n      <th>simple_return</th>\n      <th>log_return</th>\n    </tr>\n    <tr>\n      <th>Date</th>\n      <th></th>\n      <th></th>\n      <th></th>\n      <th></th>\n      <th></th>\n      <th></th>\n      <th></th>\n      <th></th>\n    </tr>\n  </thead>\n  <tbody>\n    <tr>\n      <th>2014-12-31</th>\n      <td>4.208750</td>\n      <td>4.260417</td>\n      <td>4.042083</td>\n      <td>4.060417</td>\n      <td>4.051631</td>\n      <td>58545600</td>\n      <td>NaN</td>\n      <td>NaN</td>\n    </tr>\n    <tr>\n      <th>2015-01-02</th>\n      <td>4.118750</td>\n      <td>4.172083</td>\n      <td>3.965000</td>\n      <td>4.027083</td>\n      <td>4.018369</td>\n      <td>61113600</td>\n      <td>-0.008210</td>\n      <td>-0.008244</td>\n    </tr>\n    <tr>\n      <th>2015-01-05</th>\n      <td>3.968750</td>\n      <td>3.983333</td>\n      <td>3.812500</td>\n      <td>3.845833</td>\n      <td>3.837511</td>\n      <td>63508800</td>\n      <td>-0.045008</td>\n      <td>-0.046052</td>\n    </tr>\n    <tr>\n      <th>2015-01-06</th>\n      <td>3.859583</td>\n      <td>3.882083</td>\n      <td>3.640417</td>\n      <td>3.693333</td>\n      <td>3.685341</td>\n      <td>84321600</td>\n      <td>-0.039653</td>\n      <td>-0.040461</td>\n    </tr>\n    <tr>\n      <th>2015-01-07</th>\n      <td>3.763750</td>\n      <td>3.860000</td>\n      <td>3.738333</td>\n      <td>3.835417</td>\n      <td>3.827118</td>\n      <td>68733600</td>\n      <td>0.038470</td>\n      <td>0.037749</td>\n    </tr>\n    <tr>\n      <th>...</th>\n      <td>...</td>\n      <td>...</td>\n      <td>...</td>\n      <td>...</td>\n      <td>...</td>\n      <td>...</td>\n      <td>...</td>\n      <td>...</td>\n    </tr>\n    <tr>\n      <th>2019-12-24</th>\n      <td>21.487499</td>\n      <td>21.517500</td>\n      <td>21.312500</td>\n      <td>21.459999</td>\n      <td>21.459999</td>\n      <td>19949200</td>\n      <td>0.001295</td>\n      <td>0.001294</td>\n    </tr>\n    <tr>\n      <th>2019-12-26</th>\n      <td>21.557501</td>\n      <td>22.027500</td>\n      <td>21.557501</td>\n      <td>22.017500</td>\n      <td>22.017500</td>\n      <td>32129200</td>\n      <td>0.025979</td>\n      <td>0.025647</td>\n    </tr>\n    <tr>\n      <th>2019-12-27</th>\n      <td>22.252501</td>\n      <td>22.264999</td>\n      <td>21.787500</td>\n      <td>21.952499</td>\n      <td>21.952499</td>\n      <td>49875200</td>\n      <td>-0.002952</td>\n      <td>-0.002957</td>\n    </tr>\n    <tr>\n      <th>2019-12-30</th>\n      <td>21.932501</td>\n      <td>21.965000</td>\n      <td>21.200001</td>\n      <td>21.514999</td>\n      <td>21.514999</td>\n      <td>56452800</td>\n      <td>-0.019929</td>\n      <td>-0.020131</td>\n    </tr>\n    <tr>\n      <th>2019-12-31</th>\n      <td>21.325001</td>\n      <td>21.690001</td>\n      <td>21.215000</td>\n      <td>21.637501</td>\n      <td>21.637501</td>\n      <td>42190000</td>\n      <td>0.005694</td>\n      <td>0.005678</td>\n    </tr>\n  </tbody>\n</table>\n<p>1259 rows × 8 columns</p>\n</div>"
     },
     "execution_count": 40,
     "metadata": {},
     "output_type": "execute_result"
    }
   ],
   "source": [
    "df['simple_return'] = df['Adj Close'].pct_change()\n",
    "df['log_return'] = np.log(df['Adj Close'] / df['Adj Close'].shift(1))\n",
    "df"
   ],
   "metadata": {
    "collapsed": false
   }
  },
  {
   "cell_type": "code",
   "execution_count": 51,
   "outputs": [
    {
     "name": "stdout",
     "output_type": "stream",
     "text": [
      "[*********************100%***********************]  1 of 1 completed\n"
     ]
    }
   ],
   "source": [
    "tqqq = yf.download('TQQQ',start='2010-01-01')\n",
    "df = pd.DataFrame(tqqq['Adj Close'])\n",
    "\n",
    "df['simple_return'] = (df['Adj Close'] - df['Adj Close'].shift()).fillna(0)\n",
    "df['log_return'] = np.log(df['Adj Close'] / df['Adj Close'].shift(1))\n",
    "\n",
    "number = []\n",
    "for i in df['simple_return']:\n",
    "    if i >= 0:\n",
    "        number.append(1)\n",
    "    elif i < 0:\n",
    "        number.append(2)\n",
    "\n",
    "df['number'] = number\n",
    "df['amount'] = df['Adj Close'] * df['number']\n",
    "\n",
    "df['buy'] = df['amount'].rolling(window=40).sum() / df['number'].rolling(window=40).sum()\n",
    "df['profit'] = df['Adj Close'] / df['buy'] - 1"
   ],
   "metadata": {
    "collapsed": false
   }
  },
  {
   "cell_type": "code",
   "execution_count": 52,
   "outputs": [
    {
     "data": {
      "text/plain": "<Figure size 864x432 with 1 Axes>",
      "image/png": "[encoded data removed]"
     },
     "metadata": {
      "needs_background": "light"
     },
     "output_type": "display_data"
    }
   ],
   "source": [
    "df = df.reset_index()\n",
    "df['year'] = df['Date'].apply(lambda x:x.year)\n",
    "df['gubun'] = df['profit'].apply(lambda x: '>5%' if x>0.05 else('0%' if x >= 0.0 else 'N'))\n",
    "\n",
    "dff = pd.DataFrame(df.groupby(['year', 'gubun']).count()['profit']).reset_index()\n",
    "dff['year'] = dff['year'].astype(str)\n",
    "\n",
    "tb = pd.pivot(dff,'year', 'gubun', 'profit')\n",
    "\n",
    "fig, ax = plt.subplots(figsize=(12, 6))\n",
    "bar_width = 0.25\n",
    "index=np.arange(len(tb))\n",
    "\n",
    "b1 = plt.bar(index, tb['0%'], bar_width, alpha=0.4, color='red', label='0%~5%')\n",
    "b2 = plt.bar(index + bar_width, tb['>5%'], bar_width, alpha=0.4, color='blue', label='>5%')\n",
    "b3 = plt.bar(index + 2 * bar_width, tb['N'], bar_width, alpha=0.4, color='black', label='minus')\n",
    "\n",
    "plt.xticks(np.arange(bar_width, len(index) + bar_width, 1), tb.index.values)\n",
    "\n",
    "def autolabel(rects):\n",
    "    for rect in rects:\n",
    "        height = rect.get_height()\n",
    "        ax.annotate('{}'.format(height),\n",
    "                    xy = (rect.get_x() + rect.get_width() / 2, height),\n",
    "                    xytext = (0, 3),  # 3 points vertical offset\n",
    "                    textcoords = \"offset points\",\n",
    "                    ha = 'center', va = 'bottom')\n",
    "\n",
    "autolabel(b1)\n",
    "autolabel(b2)\n",
    "autolabel(b3)\n",
    "\n",
    "fig.tight_layout()\n",
    "\n",
    "plt.xlabel('Year')\n",
    "plt.xlabel('Counts')\n",
    "plt.legend()\n",
    "plt.show()"
   ],
   "metadata": {
    "collapsed": false
   }
  }
 ],
 "metadata": {
  "kernelspec": {
   "display_name": "Python 3",
   "language": "python",
   "name": "python3"
  },
  "language_info": {
   "codemirror_mode": {
    "name": "ipython",
    "version": 2
   },
   "file_extension": ".py",
   "mimetype": "text/x-python",
   "name": "python",
   "nbconvert_exporter": "python",
   "pygments_lexer": "ipython2",
   "version": "2.7.6"
  }
 },
 "nbformat": 4,
 "nbformat_minor": 0
}
