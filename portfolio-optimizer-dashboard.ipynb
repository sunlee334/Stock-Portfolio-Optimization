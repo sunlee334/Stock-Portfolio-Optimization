{
 "cells": [
  {
   "cell_type": "code",
   "execution_count": 14,
   "outputs": [],
   "source": [
    "# -*- coding: utf-8 -*-\n",
    "\n",
    "# https://medium.datadriveninvestor.com/build-your-own-stock-portfolio-optimizer-web-app-with-streamlit-be8654ef8c65\n",
    "# streamlit run app.py"
   ],
   "metadata": {
    "collapsed": false
   }
  },
  {
   "cell_type": "code",
   "execution_count": 2,
   "outputs": [],
   "source": [
    "import streamlit as st\n",
    "import yfinance as yf\n",
    "from pypfopt import EfficientFrontier, risk_models, expected_returns, plotting\n",
    "import copy\n",
    "import numpy as np\n",
    "import pandas as pd\n",
    "import plotly.express as px\n",
    "import matplotlib.pyplot as plt\n",
    "from tqdm import tqdm\n",
    "from datetime import datetime\n",
    "from io import BytesIO\n",
    "from backdata import tickers as init_tickers\n",
    "from backdata import investment\n",
    "from backdata import start_year, start_month, start_day"
   ],
   "metadata": {
    "collapsed": false
   }
  },
  {
   "cell_type": "code",
   "execution_count": 3,
   "outputs": [],
   "source": [
    "def plot_cum_returns(data, title):\n",
    "    daily_cum_returns = 1 + data.dropna().pct_change()\n",
    "    daily_cum_returns = daily_cum_returns.cumprod()*100\n",
    "    fig = px.line(daily_cum_returns, title=title)\n",
    "    return fig\n",
    "\n",
    "def plot_efficient_frontier_and_max_sharpe(mu, S):\n",
    "    # Optimize portfolio for max Sharpe ratio and plot it out with efficient frontier curve\n",
    "    ef = EfficientFrontier(mu, S)\n",
    "    fig, ax = plt.subplots(figsize=(6,4))\n",
    "    ef_max_sharpe = copy.deepcopy(ef)\n",
    "    plotting.plot_efficient_frontier(ef, ax=ax, show_assets=False)\n",
    "\n",
    "    # Find the max sharpe portfolio\n",
    "    ef_max_sharpe.max_sharpe(risk_free_rate=0.02)\n",
    "    ret_tangent, std_tangent, _ = ef_max_sharpe.portfolio_performance()\n",
    "    ax.scatter(std_tangent, ret_tangent, marker=\"*\", s=100, c=\"r\", label=\"Max Sharpe\")\n",
    "\n",
    "    # Generate random portfolios\n",
    "    n_samples = 1000\n",
    "    w = np.random.dirichlet(np.ones(ef.n_assets), n_samples)\n",
    "    rets = w.dot(ef.expected_returns)\n",
    "    stds = np.sqrt(np.diag(w @ ef.cov_matrix @ w.T))\n",
    "    sharpes = rets / stds\n",
    "    ax.scatter(stds, rets, marker=\".\", c=sharpes, cmap=\"viridis_r\")\n",
    "\n",
    "    # Output\n",
    "    ax.legend()\n",
    "    return fig"
   ],
   "metadata": {
    "collapsed": false
   }
  },
  {
   "cell_type": "code",
   "execution_count": 4,
   "outputs": [
    {
     "name": "stderr",
     "output_type": "stream",
     "text": [
      "2022-09-20 20:31:23.779 \n",
      "  \u001B[33m\u001B[1mWarning:\u001B[0m to view this Streamlit app on a browser, run it with the following\n",
      "  command:\n",
      "\n",
      "    streamlit run C:\\ProgramData\\Anaconda3\\envs\\Stock-Portfolio-Optimization\\lib\\site-packages\\ipykernel_launcher.py [ARGUMENTS]\n"
     ]
    }
   ],
   "source": [
    "st.set_page_config(page_title=\"Bohmian's Stock Portfolio Optimizer\", layout=\"wide\")\n",
    "st.header(\"Bohmian's Stock Portfolio Optimizer\")\n",
    "\n",
    "col1, col2 = st.columns(2)\n",
    "with col1:\n",
    "    start_date = st.date_input(\"Start Date\", datetime(start_year, start_month, start_day))\n",
    "with col2:\n",
    "    end_date = st.date_input(\"End Date\")  # it defaults to current date\n",
    "\n",
    "init_tickers = init_tickers\n",
    "init_tickers_string = ', '.join(init_tickers)\n",
    "\n",
    "tickers_string = st.text_input('Enter all stock tickers to be included in portfolio separated by commas, e.g. \"AAPL, '\n",
    "                               'AMT, AMZN, CMG, EQIX, MSFT, UNH\"', init_tickers_string).upper()\n",
    "tickers_string = tickers_string.replace(\" \", \"\")\n",
    "tickers = tickers_string.split(',')\n",
    "\n",
    "investment = int(st.text_input('Enter your investment($)', investment))"
   ],
   "metadata": {
    "collapsed": false
   }
  },
  {
   "cell_type": "code",
   "execution_count": 8,
   "outputs": [
    {
     "name": "stdout",
     "output_type": "stream",
     "text": [
      "[*********************100%***********************]  26 of 26 completed\n"
     ]
    },
    {
     "data": {
      "text/plain": "DeltaGenerator(_root_container=0, _provided_cursor=None, _parent=None, _block_type=None, _form_data=None)"
     },
     "execution_count": 8,
     "metadata": {},
     "output_type": "execute_result"
    }
   ],
   "source": [
    "# Get Stock Prices using yfinance Library\n",
    "if tickers[0] == '':\n",
    "    stocks_df = yf.download(init_tickers, start=start_date, end=end_date)['Adj Close'].dropna(how=\"all\")\n",
    "else:\n",
    "    stocks_df = yf.download(tickers, start=start_date, end=end_date)['Adj Close'].dropna(how=\"all\")\n",
    "\n",
    "# stocks_df = stocks_df[stocks_df.index >= start_date]\n",
    "st.dataframe(stocks_df)"
   ],
   "metadata": {
    "collapsed": false
   }
  },
  {
   "cell_type": "code",
   "execution_count": null,
   "outputs": [],
   "source": [
    "# Plot Individual Stock Prices\n",
    "fig_price = px.line(stocks_df, title='Price of Individual Stocks')\n",
    "\n",
    "# Plot Individual Cumulative Returns\n",
    "fig_cum_returns = plot_cum_returns(stocks_df,\n",
    "                                   'Cumulative Returns of Individual Stocks Starting with $' + str(investment))\n",
    "\n",
    "# Calculatge and Plot Correlation Matrix between Stocks\n",
    "corr_df = stocks_df.corr().round(4)\n",
    "fig_corr = px.imshow(corr_df, text_auto=True, title='Correlation between Stocks')"
   ],
   "metadata": {
    "collapsed": false
   }
  },
  {
   "cell_type": "code",
   "execution_count": null,
   "outputs": [],
   "source": [
    "daily_ret = stocks_df.pct_change()  # 종목 수정 종가데이터의 일별주가상승률\n",
    "annual_ret = daily_ret.mean() * 252 # 연평균 주가상승률\n",
    "daily_cov = daily_ret.cov() # 일별주가상승률의 공분산행렬\n",
    "annual_cov = daily_cov * 252 # 공분산행렬과 영업일 수의 곱\n",
    "\n",
    "port_ret = [] # 포트폴리오의 일별주가상승률\n",
    "port_risk = [] # 리스크\n",
    "port_weights = [] # 비중\n",
    "sharpe_ratio = []"
   ],
   "metadata": {
    "collapsed": false
   }
  },
  {
   "cell_type": "code",
   "execution_count": null,
   "outputs": [],
   "source": [
    "for _ in tqdm(range(1000000)): # 임의로 만들 포트폴리오\n",
    "    weights = np.random.random(len(tickers))\n",
    "    weights /= np.sum(weights) # 임의의 가중치를 랜덤으로 부여\n",
    "\n",
    "    returns = np.dot(weights, annual_ret) # 가중치와 연 수익률 행렬과 내적을 실시\n",
    "    risk = np.sqrt(np.dot(weights.T, np.dot(annual_cov, weights))) # 포트폴리오의 변동성의 기댓값을 산출\n",
    "\n",
    "    port_ret.append(returns)\n",
    "    port_risk.append(risk)\n",
    "    port_weights.append(weights)\n",
    "    sharpe_ratio.append(returns/risk)"
   ],
   "metadata": {
    "collapsed": false
   }
  },
  {
   "cell_type": "code",
   "execution_count": null,
   "outputs": [],
   "source": [
    "portfolio = {'Returns': port_ret, 'Risk': port_risk, 'Sharpe': sharpe_ratio}\n",
    "for i, s in enumerate(tqdm(tickers)):\n",
    "    portfolio[s] = [weight[i] for weight in port_weights]\n",
    "df = pd.DataFrame(portfolio)\n",
    "df = df[['Returns', 'Risk', 'Sharpe'] + [s for s in tickers]]\n",
    "df"
   ],
   "metadata": {
    "collapsed": false
   }
  },
  {
   "cell_type": "code",
   "execution_count": null,
   "outputs": [],
   "source": [
    "min_risk = df.loc[df['Risk'] == df['Risk'].min()]  # Low Risk\n",
    "max_sharpe = df.loc[df['Sharpe'] == df['Sharpe'].max()]  # Max Sharpe"
   ],
   "metadata": {
    "collapsed": false
   }
  },
  {
   "cell_type": "code",
   "execution_count": 10,
   "outputs": [
    {
     "name": "stderr",
     "output_type": "stream",
     "text": [
      "C:\\ProgramData\\Anaconda3\\envs\\Stock-Portfolio-Optimization\\lib\\site-packages\\pypfopt\\risk_models.py:68: UserWarning:\n",
      "\n",
      "The covariance matrix is non positive semidefinite. Amending eigenvalues.\n",
      "\n"
     ]
    },
    {
     "data": {
      "text/plain": "<Figure size 600x400 with 1 Axes>",
      "image/png": "[encoded data removed]"
     },
     "metadata": {},
     "output_type": "display_data"
    }
   ],
   "source": [
    "# Calculate expected returns and sample covariance matrix for portfolio optimization later\n",
    "mu = expected_returns.mean_historical_return(stocks_df)\n",
    "S = risk_models.sample_cov(stocks_df)\n",
    "\n",
    "# Plot efficient frontier curve\n",
    "fig = plot_efficient_frontier_and_max_sharpe(mu, S)\n",
    "fig_efficient_frontier = BytesIO()\n",
    "fig.savefig(fig_efficient_frontier, format=\"png\")\n",
    "\n",
    "# Get optimized weights\n",
    "ef = EfficientFrontier(mu, S)\n",
    "ef.max_sharpe(risk_free_rate=0.02)\n",
    "weights = ef.clean_weights()\n",
    "expected_annual_return, annual_volatility, sharpe_ratio = ef.portfolio_performance()\n",
    "weights_df = pd.DataFrame.from_dict(weights, orient='index')\n",
    "weights_df.columns = ['weights']"
   ],
   "metadata": {
    "collapsed": false
   }
  },
  {
   "cell_type": "code",
   "execution_count": 11,
   "outputs": [],
   "source": [
    "# Calculate returns of portfolio with optimized weights\n",
    "stocks_df['Optimized Portfolio'] = 0\n",
    "for ticker, weight in weights.items():\n",
    "    stocks_df['Optimized Portfolio'] += stocks_df[ticker] * weight\n",
    "\n",
    "# Plot Cumulative Returns of Optimized Portfolio\n",
    "fig_cum_returns_optimized = plot_cum_returns(\n",
    "    stocks_df['Optimized Portfolio'],\n",
    "    'Cumulative Returns of Optimized Portfolio Starting with $' + str(investment))"
   ],
   "metadata": {
    "collapsed": false
   }
  },
  {
   "cell_type": "code",
   "execution_count": 13,
   "outputs": [
    {
     "data": {
      "text/plain": "DeltaGenerator(_root_container=0, _provided_cursor=None, _parent=None, _block_type=None, _form_data=None)"
     },
     "execution_count": 13,
     "metadata": {},
     "output_type": "execute_result"
    }
   ],
   "source": [
    "# Display everything on Streamlit\n",
    "if tickers[0] == '':\n",
    "    st.subheader(\"Your Portfolio Consists of {} Stocks\".format(init_tickers_string))\n",
    "else:\n",
    "    st.subheader(\"Your Portfolio Consists of {} Stocks\".format(tickers_string))\n",
    "\n",
    "st.plotly_chart(fig_cum_returns_optimized)\n",
    "\n",
    "st.subheader(\"Optimized Max Sharpe Portfolio Weights\")\n",
    "st.dataframe(weights_df)\n",
    "\n",
    "st.subheader(\"Optimized Max Sharpe Portfolio Performance\")\n",
    "st.image(fig_efficient_frontier)\n",
    "\n",
    "st.subheader('Expected annual return: {}%'.format((expected_annual_return * 100).round(2)))\n",
    "st.subheader('Annual volatility Risk: {}%'.format((annual_volatility * 100).round(2)))\n",
    "st.subheader('Sharpe Ratio: {}'.format(sharpe_ratio.round(2)))\n",
    "\n",
    "st.plotly_chart(fig_corr)  # fig_corr is not a plotly chart\n",
    "st.plotly_chart(fig_price)\n",
    "st.plotly_chart(fig_cum_returns)\n",
    "\n",
    "st.subheader('Investment: ${}'.format(investment))"
   ],
   "metadata": {
    "collapsed": false
   }
  },
  {
   "cell_type": "code",
   "execution_count": null,
   "outputs": [],
   "source": [],
   "metadata": {
    "collapsed": false
   }
  }
 ],
 "metadata": {
  "kernelspec": {
   "display_name": "Python 3",
   "language": "python",
   "name": "python3"
  },
  "language_info": {
   "codemirror_mode": {
    "name": "ipython",
    "version": 2
   },
   "file_extension": ".py",
   "mimetype": "text/x-python",
   "name": "python",
   "nbconvert_exporter": "python",
   "pygments_lexer": "ipython2",
   "version": "2.7.6"
  }
 },
 "nbformat": 4,
 "nbformat_minor": 0
}
