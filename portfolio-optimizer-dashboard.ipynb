{
 "cells": [
  {
   "cell_type": "code",
   "execution_count": 12,
   "outputs": [],
   "source": [
    "import streamlit as st\n",
    "from pandas_datareader.data import DataReader\n",
    "import yfinance as yf\n",
    "from pypfopt.discrete_allocation import DiscreteAllocation, get_latest_prices\n",
    "from pypfopt import EfficientFrontier\n",
    "from pypfopt import risk_models\n",
    "from pypfopt import expected_returns\n",
    "from pypfopt import plotting\n",
    "import copy\n",
    "import numpy as np\n",
    "import pandas as pd\n",
    "import plotly.express as px\n",
    "import matplotlib.pyplot as plt\n",
    "import seaborn as sns\n",
    "from datetime import datetime\n",
    "from io import BytesIO"
   ],
   "metadata": {
    "collapsed": false
   }
  },
  {
   "cell_type": "code",
   "execution_count": 3,
   "outputs": [],
   "source": [
    "def plot_cum_returns(data, title):\n",
    "    daily_cum_returns = 1 + data.dropna().pct_change()\n",
    "    daily_cum_returns = daily_cum_returns.cumprod()*100\n",
    "    fig = px.line(daily_cum_returns, title=title)\n",
    "    return fig\n",
    "\n",
    "def plot_efficient_frontier_and_max_sharpe(mu, S):\n",
    "    # Optimize portfolio for max Sharpe ratio and plot it out with efficient frontier curve\n",
    "    ef = EfficientFrontier(mu, S)\n",
    "    fig, ax = plt.subplots(figsize=(6,4))\n",
    "    ef_max_sharpe = copy.deepcopy(ef)\n",
    "    plotting.plot_efficient_frontier(ef, ax=ax, show_assets=False)\n",
    "\n",
    "    # Find the max sharpe portfolio\n",
    "    ef_max_sharpe.max_sharpe(risk_free_rate=0.02)\n",
    "    ret_tangent, std_tangent, _ = ef_max_sharpe.portfolio_performance()\n",
    "    ax.scatter(std_tangent, ret_tangent, marker=\"*\", s=100, c=\"r\", label=\"Max Sharpe\")\n",
    "\n",
    "    # Generate random portfolios\n",
    "    n_samples = 1000\n",
    "    w = np.random.dirichlet(np.ones(ef.n_assets), n_samples)\n",
    "    rets = w.dot(ef.expected_returns)\n",
    "    stds = np.sqrt(np.diag(w @ ef.cov_matrix @ w.T))\n",
    "    sharpes = rets / stds\n",
    "    ax.scatter(stds, rets, marker=\".\", c=sharpes, cmap=\"viridis_r\")\n",
    "\n",
    "    # Output\n",
    "    ax.legend()\n",
    "    return fig"
   ],
   "metadata": {
    "collapsed": false
   }
  },
  {
   "cell_type": "code",
   "execution_count": 9,
   "outputs": [],
   "source": [
    "st.set_page_config(page_title = \"Bohmian's Stock Portfolio Optimizer\", layout = \"wide\")\n",
    "st.header(\"Bohmian's Stock Portfolio Optimizer\")\n",
    "\n",
    "col1, col2 = st.columns(2)\n",
    "with col1:\n",
    "    start_date = st.date_input(\"Start Date\",datetime(2013, 1, 1))\n",
    "with col2:\n",
    "    end_date = st.date_input(\"End Date\") # it defaults to current date\n",
    "\n",
    "tickers_string = st.text_input('Enter all stock tickers to be included in portfolio separated by commas \\\n",
    " WITHOUT spaces, e.g. \"MA,FB,V,AMZN,JPM,BA\"', '').upper()\n",
    "tickers = tickers_string.split(',')"
   ],
   "metadata": {
    "collapsed": false
   }
  },
  {
   "cell_type": "code",
   "execution_count": 2,
   "outputs": [],
   "source": [
    "# except:\n",
    "#     st.write('Enter correct stock tickers to be included in portfolio separated\\\n",
    "# \tby commas WITHOUT spaces, e.g. \"MA,FB,V,AMZN,JPM,BA\"and hit Enter.')"
   ],
   "metadata": {
    "collapsed": false
   }
  },
  {
   "cell_type": "code",
   "execution_count": 13,
   "outputs": [
    {
     "name": "stdout",
     "output_type": "stream",
     "text": [
      "[*********************100%***********************]  1 of 1 completed\n",
      "\n",
      "1 Failed download:\n",
      "- : No data found for this date range, symbol may be delisted\n"
     ]
    },
    {
     "ename": "TypeError",
     "evalue": "corr() missing 1 required positional argument: 'other'",
     "output_type": "error",
     "traceback": [
      "\u001B[1;31m---------------------------------------------------------------------------\u001B[0m",
      "\u001B[1;31mTypeError\u001B[0m                                 Traceback (most recent call last)",
      "Input \u001B[1;32mIn [13]\u001B[0m, in \u001B[0;36m<cell line: 11>\u001B[1;34m()\u001B[0m\n\u001B[0;32m      8\u001B[0m fig_cum_returns \u001B[38;5;241m=\u001B[39m plot_cum_returns(stocks_df, \u001B[38;5;124m'\u001B[39m\u001B[38;5;124mCumulative Returns of Individual Stocks Starting with $100\u001B[39m\u001B[38;5;124m'\u001B[39m)\n\u001B[0;32m     10\u001B[0m \u001B[38;5;66;03m# Calculatge and Plot Correlation Matrix between Stocks\u001B[39;00m\n\u001B[1;32m---> 11\u001B[0m corr_df \u001B[38;5;241m=\u001B[39m \u001B[43mstocks_df\u001B[49m\u001B[38;5;241;43m.\u001B[39;49m\u001B[43mcorr\u001B[49m\u001B[43m(\u001B[49m\u001B[43m)\u001B[49m\u001B[38;5;241m.\u001B[39mround(\u001B[38;5;241m2\u001B[39m)\n\u001B[0;32m     12\u001B[0m fig_corr \u001B[38;5;241m=\u001B[39m px\u001B[38;5;241m.\u001B[39mimshow(corr_df, text_auto\u001B[38;5;241m=\u001B[39m\u001B[38;5;28;01mTrue\u001B[39;00m, title \u001B[38;5;241m=\u001B[39m \u001B[38;5;124m'\u001B[39m\u001B[38;5;124mCorrelation between Stocks\u001B[39m\u001B[38;5;124m'\u001B[39m)\n",
      "\u001B[1;31mTypeError\u001B[0m: corr() missing 1 required positional argument: 'other'"
     ]
    }
   ],
   "source": [
    "# Get Stock Prices using pandas_datareader Library\n",
    "stocks_df = yf.download(tickers, start = start_date, end = end_date)['Adj Close']\n",
    "# Plot Individual Stock Prices\n",
    "fig_price = px.line(stocks_df, title='Price of Individual Stocks')\n",
    "\n",
    "# Plot Individual Cumulative Returns\n",
    "fig_cum_returns = plot_cum_returns(stocks_df, 'Cumulative Returns of Individual Stocks Starting with $100')\n",
    "\n",
    "# Calculatge and Plot Correlation Matrix between Stocks\n",
    "corr_df = stocks_df.corr().round(2)\n",
    "fig_corr = px.imshow(corr_df, text_auto=True, title = 'Correlation between Stocks')"
   ],
   "metadata": {
    "collapsed": false
   }
  },
  {
   "cell_type": "code",
   "execution_count": 16,
   "outputs": [
    {
     "name": "stderr",
     "output_type": "stream",
     "text": [
      "C:\\Users\\Sun Lee\\AppData\\Roaming\\Python\\Python39\\site-packages\\pypfopt\\expected_returns.py:136: RuntimeWarning:\n",
      "\n",
      "prices are not in a dataframe\n",
      "\n",
      "C:\\Users\\Sun Lee\\AppData\\Roaming\\Python\\Python39\\site-packages\\pypfopt\\risk_models.py:165: RuntimeWarning:\n",
      "\n",
      "data is not in a dataframe\n",
      "\n",
      "C:\\Users\\Sun Lee\\AppData\\Roaming\\Python\\Python39\\site-packages\\numpy\\lib\\function_base.py:495: RuntimeWarning:\n",
      "\n",
      "Mean of empty slice.\n",
      "\n",
      "C:\\Users\\Sun Lee\\AppData\\Roaming\\Python\\Python39\\site-packages\\numpy\\core\\_methods.py:181: RuntimeWarning:\n",
      "\n",
      "invalid value encountered in true_divide\n",
      "\n",
      "C:\\ProgramData\\Anaconda3\\lib\\site-packages\\pandas\\core\\frame.py:9679: RuntimeWarning:\n",
      "\n",
      "Degrees of freedom <= 0 for slice\n",
      "\n",
      "C:\\Users\\Sun Lee\\AppData\\Roaming\\Python\\Python39\\site-packages\\numpy\\lib\\function_base.py:2680: RuntimeWarning:\n",
      "\n",
      "divide by zero encountered in true_divide\n",
      "\n",
      "C:\\Users\\Sun Lee\\AppData\\Roaming\\Python\\Python39\\site-packages\\numpy\\lib\\function_base.py:2680: RuntimeWarning:\n",
      "\n",
      "invalid value encountered in multiply\n",
      "\n"
     ]
    },
    {
     "ename": "OptimizationError",
     "evalue": "Please check your objectives/constraints or use a different solver.",
     "output_type": "error",
     "traceback": [
      "\u001B[1;31m---------------------------------------------------------------------------\u001B[0m",
      "\u001B[1;31mDCPError\u001B[0m                                  Traceback (most recent call last)",
      "File \u001B[1;32m~\\AppData\\Roaming\\Python\\Python39\\site-packages\\pypfopt\\base_optimizer.py:292\u001B[0m, in \u001B[0;36mBaseConvexOptimizer._solve_cvxpy_opt_problem\u001B[1;34m(self)\u001B[0m\n\u001B[0;32m    288\u001B[0m             \u001B[38;5;28;01mraise\u001B[39;00m exceptions\u001B[38;5;241m.\u001B[39mInstantiationError(\n\u001B[0;32m    289\u001B[0m                 \u001B[38;5;124m\"\u001B[39m\u001B[38;5;124mThe constraints were changed after the initial optimization. \u001B[39m\u001B[38;5;124m\"\u001B[39m\n\u001B[0;32m    290\u001B[0m                 \u001B[38;5;124m\"\u001B[39m\u001B[38;5;124mPlease create a new instance instead.\u001B[39m\u001B[38;5;124m\"\u001B[39m\n\u001B[0;32m    291\u001B[0m             )\n\u001B[1;32m--> 292\u001B[0m     \u001B[38;5;28mself\u001B[39m\u001B[38;5;241m.\u001B[39m_opt\u001B[38;5;241m.\u001B[39msolve(\n\u001B[0;32m    293\u001B[0m         solver\u001B[38;5;241m=\u001B[39m\u001B[38;5;28mself\u001B[39m\u001B[38;5;241m.\u001B[39m_solver, verbose\u001B[38;5;241m=\u001B[39m\u001B[38;5;28mself\u001B[39m\u001B[38;5;241m.\u001B[39m_verbose, \u001B[38;5;241m*\u001B[39m\u001B[38;5;241m*\u001B[39m\u001B[38;5;28mself\u001B[39m\u001B[38;5;241m.\u001B[39m_solver_options\n\u001B[0;32m    294\u001B[0m     )\n\u001B[0;32m    296\u001B[0m \u001B[38;5;28;01mexcept\u001B[39;00m (\u001B[38;5;167;01mTypeError\u001B[39;00m, cp\u001B[38;5;241m.\u001B[39mDCPError) \u001B[38;5;28;01mas\u001B[39;00m e:\n",
      "File \u001B[1;32m~\\AppData\\Roaming\\Python\\Python39\\site-packages\\cvxpy\\problems\\problem.py:481\u001B[0m, in \u001B[0;36mProblem.solve\u001B[1;34m(self, *args, **kwargs)\u001B[0m\n\u001B[0;32m    480\u001B[0m     solve_func \u001B[38;5;241m=\u001B[39m Problem\u001B[38;5;241m.\u001B[39m_solve\n\u001B[1;32m--> 481\u001B[0m \u001B[38;5;28;01mreturn\u001B[39;00m solve_func(\u001B[38;5;28mself\u001B[39m, \u001B[38;5;241m*\u001B[39margs, \u001B[38;5;241m*\u001B[39m\u001B[38;5;241m*\u001B[39mkwargs)\n",
      "File \u001B[1;32m~\\AppData\\Roaming\\Python\\Python39\\site-packages\\cvxpy\\problems\\problem.py:1007\u001B[0m, in \u001B[0;36mProblem._solve\u001B[1;34m(self, solver, warm_start, verbose, gp, qcp, requires_grad, enforce_dpp, ignore_dpp, **kwargs)\u001B[0m\n\u001B[0;32m   1005\u001B[0m         \u001B[38;5;28;01mreturn\u001B[39;00m \u001B[38;5;28mself\u001B[39m\u001B[38;5;241m.\u001B[39mvalue\n\u001B[1;32m-> 1007\u001B[0m data, solving_chain, inverse_data \u001B[38;5;241m=\u001B[39m \u001B[38;5;28;43mself\u001B[39;49m\u001B[38;5;241;43m.\u001B[39;49m\u001B[43mget_problem_data\u001B[49m\u001B[43m(\u001B[49m\n\u001B[0;32m   1008\u001B[0m \u001B[43m    \u001B[49m\u001B[43msolver\u001B[49m\u001B[43m,\u001B[49m\u001B[43m \u001B[49m\u001B[43mgp\u001B[49m\u001B[43m,\u001B[49m\u001B[43m \u001B[49m\u001B[43menforce_dpp\u001B[49m\u001B[43m,\u001B[49m\u001B[43m \u001B[49m\u001B[43mignore_dpp\u001B[49m\u001B[43m,\u001B[49m\u001B[43m \u001B[49m\u001B[43mverbose\u001B[49m\u001B[43m)\u001B[49m\n\u001B[0;32m   1010\u001B[0m \u001B[38;5;28;01mif\u001B[39;00m verbose:\n",
      "File \u001B[1;32m~\\AppData\\Roaming\\Python\\Python39\\site-packages\\cvxpy\\problems\\problem.py:607\u001B[0m, in \u001B[0;36mProblem.get_problem_data\u001B[1;34m(self, solver, gp, enforce_dpp, ignore_dpp, verbose)\u001B[0m\n\u001B[0;32m    606\u001B[0m \u001B[38;5;28mself\u001B[39m\u001B[38;5;241m.\u001B[39m_cache\u001B[38;5;241m.\u001B[39minvalidate()\n\u001B[1;32m--> 607\u001B[0m solving_chain \u001B[38;5;241m=\u001B[39m \u001B[38;5;28;43mself\u001B[39;49m\u001B[38;5;241;43m.\u001B[39;49m\u001B[43m_construct_chain\u001B[49m\u001B[43m(\u001B[49m\n\u001B[0;32m    608\u001B[0m \u001B[43m    \u001B[49m\u001B[43msolver\u001B[49m\u001B[38;5;241;43m=\u001B[39;49m\u001B[43msolver\u001B[49m\u001B[43m,\u001B[49m\u001B[43m \u001B[49m\u001B[43mgp\u001B[49m\u001B[38;5;241;43m=\u001B[39;49m\u001B[43mgp\u001B[49m\u001B[43m,\u001B[49m\n\u001B[0;32m    609\u001B[0m \u001B[43m    \u001B[49m\u001B[43menforce_dpp\u001B[49m\u001B[38;5;241;43m=\u001B[39;49m\u001B[43menforce_dpp\u001B[49m\u001B[43m,\u001B[49m\n\u001B[0;32m    610\u001B[0m \u001B[43m    \u001B[49m\u001B[43mignore_dpp\u001B[49m\u001B[38;5;241;43m=\u001B[39;49m\u001B[43mignore_dpp\u001B[49m\u001B[43m)\u001B[49m\n\u001B[0;32m    611\u001B[0m \u001B[38;5;28mself\u001B[39m\u001B[38;5;241m.\u001B[39m_cache\u001B[38;5;241m.\u001B[39mkey \u001B[38;5;241m=\u001B[39m key\n",
      "File \u001B[1;32m~\\AppData\\Roaming\\Python\\Python39\\site-packages\\cvxpy\\problems\\problem.py:845\u001B[0m, in \u001B[0;36mProblem._construct_chain\u001B[1;34m(self, solver, gp, enforce_dpp, ignore_dpp)\u001B[0m\n\u001B[0;32m    844\u001B[0m \u001B[38;5;28mself\u001B[39m\u001B[38;5;241m.\u001B[39m_sort_candidate_solvers(candidate_solvers)\n\u001B[1;32m--> 845\u001B[0m \u001B[38;5;28;01mreturn\u001B[39;00m \u001B[43mconstruct_solving_chain\u001B[49m\u001B[43m(\u001B[49m\u001B[38;5;28;43mself\u001B[39;49m\u001B[43m,\u001B[49m\u001B[43m \u001B[49m\u001B[43mcandidate_solvers\u001B[49m\u001B[43m,\u001B[49m\u001B[43m \u001B[49m\u001B[43mgp\u001B[49m\u001B[38;5;241;43m=\u001B[39;49m\u001B[43mgp\u001B[49m\u001B[43m,\u001B[49m\n\u001B[0;32m    846\u001B[0m \u001B[43m                               \u001B[49m\u001B[43menforce_dpp\u001B[49m\u001B[38;5;241;43m=\u001B[39;49m\u001B[43menforce_dpp\u001B[49m\u001B[43m,\u001B[49m\n\u001B[0;32m    847\u001B[0m \u001B[43m                               \u001B[49m\u001B[43mignore_dpp\u001B[49m\u001B[38;5;241;43m=\u001B[39;49m\u001B[43mignore_dpp\u001B[49m\u001B[43m)\u001B[49m\n",
      "File \u001B[1;32m~\\AppData\\Roaming\\Python\\Python39\\site-packages\\cvxpy\\reductions\\solvers\\solving_chain.py:162\u001B[0m, in \u001B[0;36mconstruct_solving_chain\u001B[1;34m(problem, candidates, gp, enforce_dpp, ignore_dpp)\u001B[0m\n\u001B[0;32m    161\u001B[0m     \u001B[38;5;28;01mreturn\u001B[39;00m SolvingChain(reductions\u001B[38;5;241m=\u001B[39m[ConstantSolver()])\n\u001B[1;32m--> 162\u001B[0m reductions \u001B[38;5;241m=\u001B[39m \u001B[43m_reductions_for_problem_class\u001B[49m\u001B[43m(\u001B[49m\u001B[43mproblem\u001B[49m\u001B[43m,\u001B[49m\u001B[43m \u001B[49m\u001B[43mcandidates\u001B[49m\u001B[43m,\u001B[49m\u001B[43m \u001B[49m\u001B[43mgp\u001B[49m\u001B[43m)\u001B[49m\n\u001B[0;32m    164\u001B[0m \u001B[38;5;66;03m# Process DPP status of the problem.\u001B[39;00m\n",
      "File \u001B[1;32m~\\AppData\\Roaming\\Python\\Python39\\site-packages\\cvxpy\\reductions\\solvers\\solving_chain.py:94\u001B[0m, in \u001B[0;36m_reductions_for_problem_class\u001B[1;34m(problem, candidates, gp)\u001B[0m\n\u001B[0;32m     92\u001B[0m         append \u001B[38;5;241m+\u001B[39m\u001B[38;5;241m=\u001B[39m (\u001B[38;5;124m\"\u001B[39m\u001B[38;5;130;01m\\n\u001B[39;00m\u001B[38;5;124mHowever, the problem does follow DQCP rules. \u001B[39m\u001B[38;5;124m\"\u001B[39m\n\u001B[0;32m     93\u001B[0m                    \u001B[38;5;124m\"\u001B[39m\u001B[38;5;124mConsider calling solve() with `qcp=True`.\u001B[39m\u001B[38;5;124m\"\u001B[39m)\n\u001B[1;32m---> 94\u001B[0m     \u001B[38;5;28;01mraise\u001B[39;00m DCPError(\n\u001B[0;32m     95\u001B[0m         \u001B[38;5;124m\"\u001B[39m\u001B[38;5;124mProblem does not follow DCP rules. Specifically:\u001B[39m\u001B[38;5;130;01m\\n\u001B[39;00m\u001B[38;5;124m\"\u001B[39m \u001B[38;5;241m+\u001B[39m append)\n\u001B[0;32m     96\u001B[0m \u001B[38;5;28;01melif\u001B[39;00m gp \u001B[38;5;129;01mand\u001B[39;00m \u001B[38;5;129;01mnot\u001B[39;00m problem\u001B[38;5;241m.\u001B[39mis_dgp():\n",
      "\u001B[1;31mDCPError\u001B[0m: Problem does not follow DCP rules. Specifically:\nThe objective is not DCP. Its following subexpressions are not:\nQuadForm(var1, [[nan]])",
      "\nThe above exception was the direct cause of the following exception:\n",
      "\u001B[1;31mOptimizationError\u001B[0m                         Traceback (most recent call last)",
      "Input \u001B[1;32mIn [16]\u001B[0m, in \u001B[0;36m<cell line: 6>\u001B[1;34m()\u001B[0m\n\u001B[0;32m      3\u001B[0m S \u001B[38;5;241m=\u001B[39m risk_models\u001B[38;5;241m.\u001B[39msample_cov(stocks_df)\n\u001B[0;32m      5\u001B[0m \u001B[38;5;66;03m# Plot efficient frontier curve\u001B[39;00m\n\u001B[1;32m----> 6\u001B[0m fig \u001B[38;5;241m=\u001B[39m \u001B[43mplot_efficient_frontier_and_max_sharpe\u001B[49m\u001B[43m(\u001B[49m\u001B[43mmu\u001B[49m\u001B[43m,\u001B[49m\u001B[43m \u001B[49m\u001B[43mS\u001B[49m\u001B[43m)\u001B[49m\n\u001B[0;32m      7\u001B[0m fig_efficient_frontier \u001B[38;5;241m=\u001B[39m BytesIO()\n\u001B[0;32m      8\u001B[0m fig\u001B[38;5;241m.\u001B[39msavefig(fig_efficient_frontier, \u001B[38;5;28mformat\u001B[39m\u001B[38;5;241m=\u001B[39m\u001B[38;5;124m\"\u001B[39m\u001B[38;5;124mpng\u001B[39m\u001B[38;5;124m\"\u001B[39m)\n",
      "Input \u001B[1;32mIn [3]\u001B[0m, in \u001B[0;36mplot_efficient_frontier_and_max_sharpe\u001B[1;34m(mu, S)\u001B[0m\n\u001B[0;32m     10\u001B[0m fig, ax \u001B[38;5;241m=\u001B[39m plt\u001B[38;5;241m.\u001B[39msubplots(figsize\u001B[38;5;241m=\u001B[39m(\u001B[38;5;241m6\u001B[39m,\u001B[38;5;241m4\u001B[39m))\n\u001B[0;32m     11\u001B[0m ef_max_sharpe \u001B[38;5;241m=\u001B[39m copy\u001B[38;5;241m.\u001B[39mdeepcopy(ef)\n\u001B[1;32m---> 12\u001B[0m \u001B[43mplotting\u001B[49m\u001B[38;5;241;43m.\u001B[39;49m\u001B[43mplot_efficient_frontier\u001B[49m\u001B[43m(\u001B[49m\u001B[43mef\u001B[49m\u001B[43m,\u001B[49m\u001B[43m \u001B[49m\u001B[43max\u001B[49m\u001B[38;5;241;43m=\u001B[39;49m\u001B[43max\u001B[49m\u001B[43m,\u001B[49m\u001B[43m \u001B[49m\u001B[43mshow_assets\u001B[49m\u001B[38;5;241;43m=\u001B[39;49m\u001B[38;5;28;43;01mFalse\u001B[39;49;00m\u001B[43m)\u001B[49m\n\u001B[0;32m     13\u001B[0m \u001B[38;5;66;03m# Find the max sharpe portfolio\u001B[39;00m\n\u001B[0;32m     14\u001B[0m ef_max_sharpe\u001B[38;5;241m.\u001B[39mmax_sharpe(risk_free_rate\u001B[38;5;241m=\u001B[39m\u001B[38;5;241m0.02\u001B[39m)\n",
      "File \u001B[1;32m~\\AppData\\Roaming\\Python\\Python39\\site-packages\\pypfopt\\plotting.py:261\u001B[0m, in \u001B[0;36mplot_efficient_frontier\u001B[1;34m(opt, ef_param, ef_param_range, points, ax, show_assets, show_tickers, **kwargs)\u001B[0m\n\u001B[0;32m    259\u001B[0m \u001B[38;5;28;01melif\u001B[39;00m \u001B[38;5;28misinstance\u001B[39m(opt, EfficientFrontier):\n\u001B[0;32m    260\u001B[0m     \u001B[38;5;28;01mif\u001B[39;00m ef_param_range \u001B[38;5;129;01mis\u001B[39;00m \u001B[38;5;28;01mNone\u001B[39;00m:\n\u001B[1;32m--> 261\u001B[0m         ef_param_range \u001B[38;5;241m=\u001B[39m \u001B[43m_ef_default_returns_range\u001B[49m\u001B[43m(\u001B[49m\u001B[43mopt\u001B[49m\u001B[43m,\u001B[49m\u001B[43m \u001B[49m\u001B[43mpoints\u001B[49m\u001B[43m)\u001B[49m\n\u001B[0;32m    263\u001B[0m     ax \u001B[38;5;241m=\u001B[39m _plot_ef(\n\u001B[0;32m    264\u001B[0m         opt,\n\u001B[0;32m    265\u001B[0m         ef_param,\n\u001B[1;32m   (...)\u001B[0m\n\u001B[0;32m    269\u001B[0m         show_tickers\u001B[38;5;241m=\u001B[39mshow_tickers,\n\u001B[0;32m    270\u001B[0m     )\n\u001B[0;32m    271\u001B[0m \u001B[38;5;28;01melse\u001B[39;00m:\n",
      "File \u001B[1;32m~\\AppData\\Roaming\\Python\\Python39\\site-packages\\pypfopt\\plotting.py:162\u001B[0m, in \u001B[0;36m_ef_default_returns_range\u001B[1;34m(ef, points)\u001B[0m\n\u001B[0;32m    159\u001B[0m ef_minvol \u001B[38;5;241m=\u001B[39m copy\u001B[38;5;241m.\u001B[39mdeepcopy(ef)\n\u001B[0;32m    160\u001B[0m ef_maxret \u001B[38;5;241m=\u001B[39m copy\u001B[38;5;241m.\u001B[39mdeepcopy(ef)\n\u001B[1;32m--> 162\u001B[0m \u001B[43mef_minvol\u001B[49m\u001B[38;5;241;43m.\u001B[39;49m\u001B[43mmin_volatility\u001B[49m\u001B[43m(\u001B[49m\u001B[43m)\u001B[49m\n\u001B[0;32m    163\u001B[0m min_ret \u001B[38;5;241m=\u001B[39m ef_minvol\u001B[38;5;241m.\u001B[39mportfolio_performance()[\u001B[38;5;241m0\u001B[39m]\n\u001B[0;32m    164\u001B[0m max_ret \u001B[38;5;241m=\u001B[39m ef_maxret\u001B[38;5;241m.\u001B[39m_max_return()\n",
      "File \u001B[1;32m~\\AppData\\Roaming\\Python\\Python39\\site-packages\\pypfopt\\efficient_frontier\\efficient_frontier.py:204\u001B[0m, in \u001B[0;36mEfficientFrontier.min_volatility\u001B[1;34m(self)\u001B[0m\n\u001B[0;32m    201\u001B[0m     \u001B[38;5;28mself\u001B[39m\u001B[38;5;241m.\u001B[39m_objective \u001B[38;5;241m+\u001B[39m\u001B[38;5;241m=\u001B[39m obj\n\u001B[0;32m    203\u001B[0m \u001B[38;5;28mself\u001B[39m\u001B[38;5;241m.\u001B[39madd_constraint(\u001B[38;5;28;01mlambda\u001B[39;00m w: cp\u001B[38;5;241m.\u001B[39msum(w) \u001B[38;5;241m==\u001B[39m \u001B[38;5;241m1\u001B[39m)\n\u001B[1;32m--> 204\u001B[0m \u001B[38;5;28;01mreturn\u001B[39;00m \u001B[38;5;28;43mself\u001B[39;49m\u001B[38;5;241;43m.\u001B[39;49m\u001B[43m_solve_cvxpy_opt_problem\u001B[49m\u001B[43m(\u001B[49m\u001B[43m)\u001B[49m\n",
      "File \u001B[1;32m~\\AppData\\Roaming\\Python\\Python39\\site-packages\\pypfopt\\base_optimizer.py:297\u001B[0m, in \u001B[0;36mBaseConvexOptimizer._solve_cvxpy_opt_problem\u001B[1;34m(self)\u001B[0m\n\u001B[0;32m    292\u001B[0m     \u001B[38;5;28mself\u001B[39m\u001B[38;5;241m.\u001B[39m_opt\u001B[38;5;241m.\u001B[39msolve(\n\u001B[0;32m    293\u001B[0m         solver\u001B[38;5;241m=\u001B[39m\u001B[38;5;28mself\u001B[39m\u001B[38;5;241m.\u001B[39m_solver, verbose\u001B[38;5;241m=\u001B[39m\u001B[38;5;28mself\u001B[39m\u001B[38;5;241m.\u001B[39m_verbose, \u001B[38;5;241m*\u001B[39m\u001B[38;5;241m*\u001B[39m\u001B[38;5;28mself\u001B[39m\u001B[38;5;241m.\u001B[39m_solver_options\n\u001B[0;32m    294\u001B[0m     )\n\u001B[0;32m    296\u001B[0m \u001B[38;5;28;01mexcept\u001B[39;00m (\u001B[38;5;167;01mTypeError\u001B[39;00m, cp\u001B[38;5;241m.\u001B[39mDCPError) \u001B[38;5;28;01mas\u001B[39;00m e:\n\u001B[1;32m--> 297\u001B[0m     \u001B[38;5;28;01mraise\u001B[39;00m exceptions\u001B[38;5;241m.\u001B[39mOptimizationError \u001B[38;5;28;01mfrom\u001B[39;00m \u001B[38;5;21;01me\u001B[39;00m\n\u001B[0;32m    299\u001B[0m \u001B[38;5;28;01mif\u001B[39;00m \u001B[38;5;28mself\u001B[39m\u001B[38;5;241m.\u001B[39m_opt\u001B[38;5;241m.\u001B[39mstatus \u001B[38;5;129;01mnot\u001B[39;00m \u001B[38;5;129;01min\u001B[39;00m {\u001B[38;5;124m\"\u001B[39m\u001B[38;5;124moptimal\u001B[39m\u001B[38;5;124m\"\u001B[39m, \u001B[38;5;124m\"\u001B[39m\u001B[38;5;124moptimal_inaccurate\u001B[39m\u001B[38;5;124m\"\u001B[39m}:\n\u001B[0;32m    300\u001B[0m     \u001B[38;5;28;01mraise\u001B[39;00m exceptions\u001B[38;5;241m.\u001B[39mOptimizationError(\n\u001B[0;32m    301\u001B[0m         \u001B[38;5;124m\"\u001B[39m\u001B[38;5;124mSolver status: \u001B[39m\u001B[38;5;132;01m{}\u001B[39;00m\u001B[38;5;124m\"\u001B[39m\u001B[38;5;241m.\u001B[39mformat(\u001B[38;5;28mself\u001B[39m\u001B[38;5;241m.\u001B[39m_opt\u001B[38;5;241m.\u001B[39mstatus)\n\u001B[0;32m    302\u001B[0m     )\n",
      "\u001B[1;31mOptimizationError\u001B[0m: Please check your objectives/constraints or use a different solver."
     ]
    },
    {
     "data": {
      "text/plain": "<Figure size 432x288 with 1 Axes>",
      "image/png": "[encoded data removed]"
     },
     "metadata": {},
     "output_type": "display_data"
    }
   ],
   "source": [
    "# Calculate expected returns and sample covariance matrix for portfolio optimization later\n",
    "mu = expected_returns.mean_historical_return(stocks_df)\n",
    "S = risk_models.sample_cov(stocks_df)\n",
    "\n",
    "# Plot efficient frontier curve\n",
    "fig = plot_efficient_frontier_and_max_sharpe(mu, S)\n",
    "fig_efficient_frontier = BytesIO()\n",
    "fig.savefig(fig_efficient_frontier, format=\"png\")\n",
    "\n",
    "# Get optimized weights\n",
    "ef = EfficientFrontier(mu, S)\n",
    "ef.max_sharpe(risk_free_rate=0.02)\n",
    "weights = ef.clean_weights()\n",
    "expected_annual_return, annual_volatility, sharpe_ratio = ef.portfolio_performance()\n",
    "weights_df = pd.DataFrame.from_dict(weights, orient = 'index')\n",
    "weights_df.columns = ['weights']"
   ],
   "metadata": {
    "collapsed": false
   }
  },
  {
   "cell_type": "code",
   "execution_count": 17,
   "outputs": [
    {
     "ename": "NameError",
     "evalue": "name 'weights' is not defined",
     "output_type": "error",
     "traceback": [
      "\u001B[1;31m---------------------------------------------------------------------------\u001B[0m",
      "\u001B[1;31mNameError\u001B[0m                                 Traceback (most recent call last)",
      "Input \u001B[1;32mIn [17]\u001B[0m, in \u001B[0;36m<cell line: 3>\u001B[1;34m()\u001B[0m\n\u001B[0;32m      1\u001B[0m \u001B[38;5;66;03m# Calculate returns of portfolio with optimized weights\u001B[39;00m\n\u001B[0;32m      2\u001B[0m stocks_df[\u001B[38;5;124m'\u001B[39m\u001B[38;5;124mOptimized Portfolio\u001B[39m\u001B[38;5;124m'\u001B[39m] \u001B[38;5;241m=\u001B[39m \u001B[38;5;241m0\u001B[39m\n\u001B[1;32m----> 3\u001B[0m \u001B[38;5;28;01mfor\u001B[39;00m ticker, weight \u001B[38;5;129;01min\u001B[39;00m \u001B[43mweights\u001B[49m\u001B[38;5;241m.\u001B[39mitems():\n\u001B[0;32m      4\u001B[0m     stocks_df[\u001B[38;5;124m'\u001B[39m\u001B[38;5;124mOptimized Portfolio\u001B[39m\u001B[38;5;124m'\u001B[39m] \u001B[38;5;241m+\u001B[39m\u001B[38;5;241m=\u001B[39m stocks_df[ticker]\u001B[38;5;241m*\u001B[39mweight\n\u001B[0;32m      6\u001B[0m \u001B[38;5;66;03m# Plot Cumulative Returns of Optimized Portfolio\u001B[39;00m\n",
      "\u001B[1;31mNameError\u001B[0m: name 'weights' is not defined"
     ]
    }
   ],
   "source": [
    "# Calculate returns of portfolio with optimized weights\n",
    "stocks_df['Optimized Portfolio'] = 0\n",
    "for ticker, weight in weights.items():\n",
    "    stocks_df['Optimized Portfolio'] += stocks_df[ticker]*weight\n",
    "\n",
    "# Plot Cumulative Returns of Optimized Portfolio\n",
    "fig_cum_returns_optimized = plot_cum_returns(stocks_df['Optimized Portfolio'], 'Cumulative Returns of Optimized Portfolio Starting with $100')"
   ],
   "metadata": {
    "collapsed": false
   }
  },
  {
   "cell_type": "code",
   "execution_count": 18,
   "outputs": [
    {
     "ename": "NameError",
     "evalue": "name 'fig_cum_returns_optimized' is not defined",
     "output_type": "error",
     "traceback": [
      "\u001B[1;31m---------------------------------------------------------------------------\u001B[0m",
      "\u001B[1;31mNameError\u001B[0m                                 Traceback (most recent call last)",
      "Input \u001B[1;32mIn [18]\u001B[0m, in \u001B[0;36m<cell line: 3>\u001B[1;34m()\u001B[0m\n\u001B[0;32m      1\u001B[0m \u001B[38;5;66;03m# Display everything on Streamlit\u001B[39;00m\n\u001B[0;32m      2\u001B[0m st\u001B[38;5;241m.\u001B[39msubheader(\u001B[38;5;124m\"\u001B[39m\u001B[38;5;124mYour Portfolio Consists of \u001B[39m\u001B[38;5;132;01m{}\u001B[39;00m\u001B[38;5;124m Stocks\u001B[39m\u001B[38;5;124m\"\u001B[39m\u001B[38;5;241m.\u001B[39mformat(tickers_string))\n\u001B[1;32m----> 3\u001B[0m st\u001B[38;5;241m.\u001B[39mplotly_chart(\u001B[43mfig_cum_returns_optimized\u001B[49m)\n\u001B[0;32m      5\u001B[0m st\u001B[38;5;241m.\u001B[39msubheader(\u001B[38;5;124m\"\u001B[39m\u001B[38;5;124mOptimized Max Sharpe Portfolio Weights\u001B[39m\u001B[38;5;124m\"\u001B[39m)\n\u001B[0;32m      6\u001B[0m st\u001B[38;5;241m.\u001B[39mdataframe(weights_df)\n",
      "\u001B[1;31mNameError\u001B[0m: name 'fig_cum_returns_optimized' is not defined"
     ]
    }
   ],
   "source": [
    "# Display everything on Streamlit\n",
    "st.subheader(\"Your Portfolio Consists of {} Stocks\".format(tickers_string))\n",
    "st.plotly_chart(fig_cum_returns_optimized)\n",
    "\n",
    "st.subheader(\"Optimized Max Sharpe Portfolio Weights\")\n",
    "st.dataframe(weights_df)\n",
    "\n",
    "st.subheader(\"Optimized Max Sharpe Portfolio Performance\")\n",
    "st.image(fig_efficient_frontier)\n",
    "\n",
    "st.subheader('Expected annual return: {}%'.format((expected_annual_return*100).round(2)))\n",
    "st.subheader('Annual volatility: {}%'.format((annual_volatility*100).round(2)))\n",
    "st.subheader('Sharpe Ratio: {}'.format(sharpe_ratio.round(2)))\n",
    "\n",
    "st.plotly_chart(fig_corr) # fig_corr is not a plotly chart\n",
    "st.plotly_chart(fig_price)\n",
    "st.plotly_chart(fig_cum_returns)"
   ],
   "metadata": {
    "collapsed": false
   }
  }
 ],
 "metadata": {
  "kernelspec": {
   "display_name": "Python 3",
   "language": "python",
   "name": "python3"
  },
  "language_info": {
   "codemirror_mode": {
    "name": "ipython",
    "version": 2
   },
   "file_extension": ".py",
   "mimetype": "text/x-python",
   "name": "python",
   "nbconvert_exporter": "python",
   "pygments_lexer": "ipython2",
   "version": "2.7.6"
  }
 },
 "nbformat": 4,
 "nbformat_minor": 0
}
